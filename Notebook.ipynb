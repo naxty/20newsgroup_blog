{
 "cells": [
  {
   "cell_type": "markdown",
   "metadata": {},
   "source": [
    "# 1) Download and read the dataset"
   ]
  },
  {
   "cell_type": "code",
   "execution_count": null,
   "metadata": {},
   "outputs": [],
   "source": [
    "!wget http://qwone.com/~jason/20Newsgroups/20news-18828.tar.gz -P data/"
   ]
  },
  {
   "cell_type": "code",
   "execution_count": null,
   "metadata": {},
   "outputs": [],
   "source": [
    "!tar -xzf data/20news-18828.tar.gz -C data/"
   ]
  },
  {
   "cell_type": "code",
   "execution_count": 1,
   "metadata": {
    "scrolled": true
   },
   "outputs": [
    {
     "name": "stdout",
     "output_type": "stream",
     "text": [
      "total 0\r\n",
      "drwxr-xr-x   801 naxty  staff  25632 Sep 26  2001 \u001b[1m\u001b[36malt.atheism\u001b[m\u001b[m\r\n",
      "drwxr-xr-x   975 naxty  staff  31200 Sep 26  2001 \u001b[1m\u001b[36mcomp.graphics\u001b[m\u001b[m\r\n",
      "drwxr-xr-x   987 naxty  staff  31584 Sep 26  2001 \u001b[1m\u001b[36mcomp.os.ms-windows.misc\u001b[m\u001b[m\r\n",
      "drwxr-xr-x   984 naxty  staff  31488 Sep 26  2001 \u001b[1m\u001b[36mcomp.sys.ibm.pc.hardware\u001b[m\u001b[m\r\n",
      "drwxr-xr-x   963 naxty  staff  30816 Sep 26  2001 \u001b[1m\u001b[36mcomp.sys.mac.hardware\u001b[m\u001b[m\r\n",
      "drwxr-xr-x   982 naxty  staff  31424 Sep 26  2001 \u001b[1m\u001b[36mcomp.windows.x\u001b[m\u001b[m\r\n",
      "drwxr-xr-x   974 naxty  staff  31168 Sep 26  2001 \u001b[1m\u001b[36mmisc.forsale\u001b[m\u001b[m\r\n",
      "drwxr-xr-x   992 naxty  staff  31744 Sep 26  2001 \u001b[1m\u001b[36mrec.autos\u001b[m\u001b[m\r\n",
      "drwxr-xr-x   996 naxty  staff  31872 Sep 26  2001 \u001b[1m\u001b[36mrec.motorcycles\u001b[m\u001b[m\r\n",
      "drwxr-xr-x   996 naxty  staff  31872 Sep 26  2001 \u001b[1m\u001b[36mrec.sport.baseball\u001b[m\u001b[m\r\n",
      "drwxr-xr-x  1001 naxty  staff  32032 Sep 26  2001 \u001b[1m\u001b[36mrec.sport.hockey\u001b[m\u001b[m\r\n",
      "drwxr-xr-x   993 naxty  staff  31776 Sep 26  2001 \u001b[1m\u001b[36msci.crypt\u001b[m\u001b[m\r\n",
      "drwxr-xr-x   983 naxty  staff  31456 Sep 26  2001 \u001b[1m\u001b[36msci.electronics\u001b[m\u001b[m\r\n",
      "drwxr-xr-x   992 naxty  staff  31744 Sep 26  2001 \u001b[1m\u001b[36msci.med\u001b[m\u001b[m\r\n",
      "drwxr-xr-x   989 naxty  staff  31648 Sep 26  2001 \u001b[1m\u001b[36msci.space\u001b[m\u001b[m\r\n",
      "drwxr-xr-x   999 naxty  staff  31968 Dec  8  1999 \u001b[1m\u001b[36msoc.religion.christian\u001b[m\u001b[m\r\n",
      "drwxr-xr-x   912 naxty  staff  29184 Sep 26  2001 \u001b[1m\u001b[36mtalk.politics.guns\u001b[m\u001b[m\r\n",
      "drwxr-xr-x   942 naxty  staff  30144 Sep 26  2001 \u001b[1m\u001b[36mtalk.politics.mideast\u001b[m\u001b[m\r\n",
      "drwxr-xr-x   777 naxty  staff  24864 Sep 26  2001 \u001b[1m\u001b[36mtalk.politics.misc\u001b[m\u001b[m\r\n",
      "drwxr-xr-x   630 naxty  staff  20160 Sep 26  2001 \u001b[1m\u001b[36mtalk.religion.misc\u001b[m\u001b[m\r\n"
     ]
    }
   ],
   "source": [
    "!ls -l data/20news-18828/"
   ]
  },
  {
   "cell_type": "markdown",
   "metadata": {},
   "source": [
    "## Read texts"
   ]
  },
  {
   "cell_type": "code",
   "execution_count": 2,
   "metadata": {},
   "outputs": [],
   "source": [
    "import os"
   ]
  },
  {
   "cell_type": "code",
   "execution_count": 3,
   "metadata": {},
   "outputs": [],
   "source": [
    "def clean_text(text):\n",
    "    text = text.lower() \n",
    "    import re\n",
    "    # Remove punctuation characters\n",
    "    text = re.sub(r\"[^a-zA-Z0-9]\", \" \", text) \n",
    "    text = \" \".join(text.split())\n",
    "    return text"
   ]
  },
  {
   "cell_type": "code",
   "execution_count": null,
   "metadata": {},
   "outputs": [],
   "source": [
    "newsgroup_folder = \"data/20news-18828/\"\n",
    "from os.path import isfile, join, isdir\n",
    "import codecs\n",
    "texts = []\n",
    "for folder in os.listdir(newsgroup_folder):\n",
    "    \n",
    "    folder_path = join(newsgroup_folder, folder)\n",
    "    if isdir(folder_path):\n",
    "        for file in os.listdir(folder_path):\n",
    "            file_path = join(folder_path, file)\n",
    "            if isfile(file_path):\n",
    "                text = codecs.open(file_path, \"r\", encoding='utf-8', errors='ignore').read()\n",
    "                text = clean_text(text)\n",
    "                texts.append({'text': text, 'label': folder})           "
   ]
  },
  {
   "cell_type": "code",
   "execution_count": 5,
   "metadata": {},
   "outputs": [],
   "source": [
    "length_of_texts = [len(text['text']) for text in texts]"
   ]
  },
  {
   "cell_type": "markdown",
   "metadata": {},
   "source": [
    "### Analysis length of texts"
   ]
  },
  {
   "cell_type": "code",
   "execution_count": 6,
   "metadata": {},
   "outputs": [],
   "source": [
    "import seaborn as sns"
   ]
  },
  {
   "cell_type": "code",
   "execution_count": 7,
   "metadata": {},
   "outputs": [
    {
     "name": "stderr",
     "output_type": "stream",
     "text": [
      "/Users/naxty/miniconda3/envs/telekom/lib/python3.6/site-packages/seaborn/distributions.py:195: RuntimeWarning: Mean of empty slice.\n",
      "  line, = ax.plot(a.mean(), 0)\n",
      "/Users/naxty/miniconda3/envs/telekom/lib/python3.6/site-packages/numpy/core/_methods.py:80: RuntimeWarning: invalid value encountered in double_scalars\n",
      "  ret = ret.dtype.type(ret / rcount)\n",
      "/Users/naxty/miniconda3/envs/telekom/lib/python3.6/site-packages/matplotlib/axes/_axes.py:6462: UserWarning: The 'normed' kwarg is deprecated, and has been replaced by the 'density' kwarg.\n",
      "  warnings.warn(\"The 'normed' kwarg is deprecated, and has been \"\n",
      "/Users/naxty/miniconda3/envs/telekom/lib/python3.6/site-packages/numpy/lib/function_base.py:838: RuntimeWarning: invalid value encountered in true_divide\n",
      "  return n/db/n.sum(), bin_edges\n"
     ]
    },
    {
     "data": {
      "text/plain": [
       "<matplotlib.axes._subplots.AxesSubplot at 0x10e45f7f0>"
      ]
     },
     "execution_count": 7,
     "metadata": {},
     "output_type": "execute_result"
    },
    {
     "data": {
      "image/png": "[encoded data removed]",
      "text/plain": [
       "<Figure size 432x288 with 1 Axes>"
      ]
     },
     "metadata": {},
     "output_type": "display_data"
    }
   ],
   "source": [
    "sns.distplot(length_of_texts)"
   ]
  },
  {
   "cell_type": "markdown",
   "metadata": {},
   "source": [
    "Based on the distribution texts have a size < 5000:"
   ]
  },
  {
   "cell_type": "code",
   "execution_count": null,
   "metadata": {},
   "outputs": [],
   "source": [
    "import numpy as np"
   ]
  },
  {
   "cell_type": "code",
   "execution_count": null,
   "metadata": {},
   "outputs": [],
   "source": [
    "np.percentile(length_of_texts, 100)"
   ]
  },
  {
   "cell_type": "code",
   "execution_count": null,
   "metadata": {},
   "outputs": [],
   "source": [
    "sns.distplot(list(filter(lambda x: x <5000, length_of_texts)))"
   ]
  },
  {
   "cell_type": "markdown",
   "metadata": {},
   "source": [
    "At this point we want to filter out every text that is bigger than 1000"
   ]
  },
  {
   "cell_type": "code",
   "execution_count": null,
   "metadata": {},
   "outputs": [],
   "source": [
    "text_base = list(filter(lambda item: len(item['text']) < 1000, texts))"
   ]
  },
  {
   "cell_type": "code",
   "execution_count": null,
   "metadata": {},
   "outputs": [],
   "source": [
    "len(text_base)"
   ]
  },
  {
   "cell_type": "code",
   "execution_count": null,
   "metadata": {},
   "outputs": [],
   "source": [
    "len(texts)-len(text_base)"
   ]
  },
  {
   "cell_type": "markdown",
   "metadata": {},
   "source": [
    "# Preparation for Machine Learning"
   ]
  },
  {
   "cell_type": "code",
   "execution_count": null,
   "metadata": {},
   "outputs": [],
   "source": [
    "X = [item['text'] for item in text_base]\n",
    "y = [item['label'] for item in text_base]"
   ]
  },
  {
   "cell_type": "code",
   "execution_count": null,
   "metadata": {},
   "outputs": [],
   "source": [
    "len(X) == len(y)"
   ]
  },
  {
   "cell_type": "markdown",
   "metadata": {},
   "source": [
    "# 2) Shuffle data and split into training and test"
   ]
  },
  {
   "cell_type": "code",
   "execution_count": null,
   "metadata": {},
   "outputs": [],
   "source": [
    "import sklearn\n",
    "from sklearn.model_selection import train_test_split\n"
   ]
  },
  {
   "cell_type": "code",
   "execution_count": null,
   "metadata": {},
   "outputs": [],
   "source": [
    "X_train, X_test, y_train, y_test = train_test_split(X, y, test_size=0.2, random_state=42, shuffle=True)"
   ]
  },
  {
   "cell_type": "markdown",
   "metadata": {},
   "source": [
    "# 3) BAG representation"
   ]
  },
  {
   "cell_type": "code",
   "execution_count": null,
   "metadata": {},
   "outputs": [],
   "source": [
    "from sklearn.feature_extraction.text import CountVectorizer\n",
    "from sklearn.pipeline import Pipeline\n",
    "from sklearn.naive_bayes import MultinomialNB \n",
    "bag_text_clf = Pipeline([('vect', CountVectorizer(max_features=5000)),\n",
    "                     ('clf', MultinomialNB()),\n",
    "])"
   ]
  },
  {
   "cell_type": "code",
   "execution_count": null,
   "metadata": {},
   "outputs": [],
   "source": [
    "bag_text_clf.fit(X_train, y_train)"
   ]
  },
  {
   "cell_type": "code",
   "execution_count": null,
   "metadata": {},
   "outputs": [],
   "source": [
    "\n"
   ]
  },
  {
   "cell_type": "markdown",
   "metadata": {},
   "source": [
    "# 4) TFIDF representation"
   ]
  },
  {
   "cell_type": "code",
   "execution_count": null,
   "metadata": {},
   "outputs": [],
   "source": [
    "from sklearn.pipeline import Pipeline\n",
    "from sklearn.feature_extraction.text import TfidfVectorizer\n",
    "tfidf_text_clf = Pipeline([('tfidf', TfidfVectorizer(max_features=5000)),\n",
    "                     ('clf', MultinomialNB()),\n",
    "])"
   ]
  },
  {
   "cell_type": "code",
   "execution_count": null,
   "metadata": {},
   "outputs": [],
   "source": [
    "tfidf_text_clf.fit(X_train, y_train)"
   ]
  },
  {
   "cell_type": "code",
   "execution_count": null,
   "metadata": {},
   "outputs": [],
   "source": []
  },
  {
   "cell_type": "markdown",
   "metadata": {},
   "source": [
    "# 5) Evaluation"
   ]
  },
  {
   "cell_type": "code",
   "execution_count": null,
   "metadata": {},
   "outputs": [],
   "source": [
    "from yellowbrick.classifier import ConfusionMatrix\n"
   ]
  },
  {
   "cell_type": "markdown",
   "metadata": {},
   "source": [
    "## 5.1) BOW"
   ]
  },
  {
   "cell_type": "code",
   "execution_count": null,
   "metadata": {},
   "outputs": [],
   "source": [
    "y_pred_bag_ = bag_text_clf.predict(X_test)"
   ]
  },
  {
   "cell_type": "code",
   "execution_count": null,
   "metadata": {},
   "outputs": [],
   "source": [
    "sklearn.metrics.f1_score(y_test, y_pred_bag_, average=\"weighted\")"
   ]
  },
  {
   "cell_type": "code",
   "execution_count": null,
   "metadata": {},
   "outputs": [],
   "source": [
    "cm = ConfusionMatrix(bag_text_clf)\n",
    "cm.score(X_test, y_test)"
   ]
  },
  {
   "cell_type": "markdown",
   "metadata": {},
   "source": [
    "## 5.2) TFIDF"
   ]
  },
  {
   "cell_type": "code",
   "execution_count": null,
   "metadata": {},
   "outputs": [],
   "source": [
    "y_pred_tfidf_ = tfidf_text_clf.predict(X_test)"
   ]
  },
  {
   "cell_type": "code",
   "execution_count": null,
   "metadata": {},
   "outputs": [],
   "source": [
    "sklearn.metrics.f1_score(y_test, y_pred_tfidf_, average=\"weighted\")"
   ]
  },
  {
   "cell_type": "code",
   "execution_count": null,
   "metadata": {},
   "outputs": [],
   "source": [
    "cm = ConfusionMatrix(tfidf_text_clf)\n",
    "cm.score(X_test, y_test)"
   ]
  }
 ],
 "metadata": {
  "kernelspec": {
   "display_name": "Python 3",
   "language": "python",
   "name": "python3"
  },
  "language_info": {
   "codemirror_mode": {
    "name": "ipython",
    "version": 3
   },
   "file_extension": ".py",
   "mimetype": "text/x-python",
   "name": "python",
   "nbconvert_exporter": "python",
   "pygments_lexer": "ipython3",
   "version": "3.6.5"
  }
 },
 "nbformat": 4,
 "nbformat_minor": 2
}
